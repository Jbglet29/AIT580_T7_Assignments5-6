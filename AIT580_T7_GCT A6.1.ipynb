{
 "cells": [
  {
   "cell_type": "markdown",
   "metadata": {},
   "source": [
    "# AIT580 Assignment 6.1 - R for Data Analysis\n",
    "###### ---------------------------------------------------------------------------------------\n",
    "##### Purpose for GMU-AIT students to learn R for Data Science\n",
    "##### The template created by Dr. Liao (6/5/2020)\n",
    "###### ---------------------------------------------------------------------------------------\n",
    "##### Student ID:\n",
    "##### Student's Full Name: John Gullette, Karyna Todd, Rebeca Conn\n",
    "##### Submission Date: 09/12/2021\n",
    "###### ---------------------------------------------------------------------------------------"
   ]
  },
  {
   "cell_type": "markdown",
   "metadata": {},
   "source": [
    "## Import Packages\n",
    "##### e.g., if no \"dplyr\", please open the shell and run \"conda install -c r r-dplyr\" to install it."
   ]
  },
  {
   "cell_type": "code",
   "execution_count": 7,
   "metadata": {},
   "outputs": [],
   "source": [
    "library(\"dplyr\")"
   ]
  },
  {
   "cell_type": "markdown",
   "metadata": {},
   "source": [
    "#### Remove all objects from the current workspace (R memory)"
   ]
  },
  {
   "cell_type": "code",
   "execution_count": 8,
   "metadata": {},
   "outputs": [],
   "source": [
    "rm(list=ls())"
   ]
  },
  {
   "cell_type": "markdown",
   "metadata": {},
   "source": [
    "#### Load CSV file and create the dataframe"
   ]
  },
  {
   "cell_type": "code",
   "execution_count": 46,
   "metadata": {},
   "outputs": [],
   "source": [
    "data <- read.csv(file='EmployeeAttrition.csv')"
   ]
  },
  {
   "cell_type": "markdown",
   "metadata": {},
   "source": [
    "#### 1. Count the total numbers of records and columns in the table."
   ]
  },
  {
   "cell_type": "code",
   "execution_count": 13,
   "metadata": {},
   "outputs": [
    {
     "data": {
      "text/html": [
       "1470"
      ],
      "text/latex": [
       "1470"
      ],
      "text/markdown": [
       "1470"
      ],
      "text/plain": [
       "[1] 1470"
      ]
     },
     "metadata": {},
     "output_type": "display_data"
    }
   ],
   "source": [
    "nrow(data)"
   ]
  },
  {
   "cell_type": "code",
   "execution_count": 15,
   "metadata": {},
   "outputs": [
    {
     "data": {
      "text/html": [
       "1470"
      ],
      "text/latex": [
       "1470"
      ],
      "text/markdown": [
       "1470"
      ],
      "text/plain": [
       "[1] 1470"
      ]
     },
     "metadata": {},
     "output_type": "display_data"
    }
   ],
   "source": [
    "length(data$Age)"
   ]
  },
  {
   "cell_type": "markdown",
   "metadata": {},
   "source": [
    "#### 2. How many unique JOBROLE are there in the dataset. "
   ]
  },
  {
   "cell_type": "code",
   "execution_count": 17,
   "metadata": {},
   "outputs": [
    {
     "data": {
      "text/html": [
       "9"
      ],
      "text/latex": [
       "9"
      ],
      "text/markdown": [
       "9"
      ],
      "text/plain": [
       "[1] 9"
      ]
     },
     "metadata": {},
     "output_type": "display_data"
    }
   ],
   "source": [
    "length(unique(data$JobRole))"
   ]
  },
  {
   "cell_type": "markdown",
   "metadata": {},
   "source": [
    "#### 3. What percent of total employees have TOTALWORKINGYEARS less than equal to 5? The percentage should have 2 decimal places. "
   ]
  },
  {
   "cell_type": "code",
   "execution_count": 24,
   "metadata": {},
   "outputs": [
    {
     "data": {
      "text/html": [
       "0.21"
      ],
      "text/latex": [
       "0.21"
      ],
      "text/markdown": [
       "0.21"
      ],
      "text/plain": [
       "[1] 0.21"
      ]
     },
     "metadata": {},
     "output_type": "display_data"
    }
   ],
   "source": [
    "round(mean(data$TotalWorkingYears <= 5),2)"
   ]
  },
  {
   "cell_type": "markdown",
   "metadata": {},
   "source": [
    "#### 4. Find EMPLOYEENUMBER, EDUCATIONFIELD, JOBROLE for all the employees whose AGE is greater than equal to 50 and ATTRITION is YES."
   ]
  },
  {
   "cell_type": "code",
   "execution_count": 26,
   "metadata": {},
   "outputs": [
    {
     "data": {
      "text/html": [
       "<table>\n",
       "<thead><tr><th></th><th scope=col>EmployeeNumber</th><th scope=col>EducationField</th><th scope=col>JobRole</th></tr></thead>\n",
       "<tbody>\n",
       "\t<tr><th scope=row>37</th><td>  47                     </td><td>Marketing                </td><td>Sales Representative     </td></tr>\n",
       "\t<tr><th scope=row>123</th><td> 161                     </td><td>Life Sciences            </td><td>Research Scientist       </td></tr>\n",
       "\t<tr><th scope=row>127</th><td> 165                     </td><td>Medical                  </td><td>Healthcare Representative</td></tr>\n",
       "\t<tr><th scope=row>137</th><td> 179                     </td><td>Life Sciences            </td><td>Manufacturing Director   </td></tr>\n",
       "\t<tr><th scope=row>318</th><td> 433                     </td><td>Medical                  </td><td>Research Scientist       </td></tr>\n",
       "\t<tr><th scope=row>529</th><td> 723                     </td><td>Technical Degree         </td><td>Sales Executive          </td></tr>\n",
       "\t<tr><th scope=row>569</th><td> 787                     </td><td>Medical                  </td><td>Manager                  </td></tr>\n",
       "\t<tr><th scope=row>596</th><td> 825                     </td><td>Life Sciences            </td><td>Research Director        </td></tr>\n",
       "\t<tr><th scope=row>609</th><td> 842                     </td><td>Medical                  </td><td>Sales Executive          </td></tr>\n",
       "\t<tr><th scope=row>661</th><td> 918                     </td><td>Life Sciences            </td><td>Laboratory Technician    </td></tr>\n",
       "\t<tr><th scope=row>701</th><td> 977                     </td><td>Technical Degree         </td><td>Research Scientist       </td></tr>\n",
       "\t<tr><th scope=row>750</th><td>1038                     </td><td>Marketing                </td><td>Manager                  </td></tr>\n",
       "\t<tr><th scope=row>780</th><td>1081                     </td><td>Life Sciences            </td><td>Research Scientist       </td></tr>\n",
       "\t<tr><th scope=row>802</th><td>1113                     </td><td>Other                    </td><td>Sales Executive          </td></tr>\n",
       "\t<tr><th scope=row>948</th><td>1319                     </td><td>Life Sciences            </td><td>Sales Executive          </td></tr>\n",
       "\t<tr><th scope=row>967</th><td>1360                     </td><td>Medical                  </td><td>Manufacturing Director   </td></tr>\n",
       "\t<tr><th scope=row>976</th><td>1372                     </td><td>Marketing                </td><td>Sales Executive          </td></tr>\n",
       "\t<tr><th scope=row>1112</th><td>1572                     </td><td>Technical Degree         </td><td>Manufacturing Director   </td></tr>\n",
       "\t<tr><th scope=row>1355</th><td>1907                     </td><td>Life Sciences            </td><td>Laboratory Technician    </td></tr>\n",
       "\t<tr><th scope=row>1397</th><td>1968                     </td><td>Life Sciences            </td><td>Sales Executive          </td></tr>\n",
       "\t<tr><th scope=row>1445</th><td>2032                     </td><td>Technical Degree         </td><td>Laboratory Technician    </td></tr>\n",
       "\t<tr><th scope=row>1453</th><td>2044                     </td><td>Life Sciences            </td><td>Sales Executive          </td></tr>\n",
       "\t<tr><th scope=row>1462</th><td>2055                     </td><td>Marketing                </td><td>Sales Executive          </td></tr>\n",
       "</tbody>\n",
       "</table>\n"
      ],
      "text/latex": [
       "\\begin{tabular}{r|lll}\n",
       "  & EmployeeNumber & EducationField & JobRole\\\\\n",
       "\\hline\n",
       "\t37 &   47                      & Marketing                 & Sales Representative     \\\\\n",
       "\t123 &  161                      & Life Sciences             & Research Scientist       \\\\\n",
       "\t127 &  165                      & Medical                   & Healthcare Representative\\\\\n",
       "\t137 &  179                      & Life Sciences             & Manufacturing Director   \\\\\n",
       "\t318 &  433                      & Medical                   & Research Scientist       \\\\\n",
       "\t529 &  723                      & Technical Degree          & Sales Executive          \\\\\n",
       "\t569 &  787                      & Medical                   & Manager                  \\\\\n",
       "\t596 &  825                      & Life Sciences             & Research Director        \\\\\n",
       "\t609 &  842                      & Medical                   & Sales Executive          \\\\\n",
       "\t661 &  918                      & Life Sciences             & Laboratory Technician    \\\\\n",
       "\t701 &  977                      & Technical Degree          & Research Scientist       \\\\\n",
       "\t750 & 1038                      & Marketing                 & Manager                  \\\\\n",
       "\t780 & 1081                      & Life Sciences             & Research Scientist       \\\\\n",
       "\t802 & 1113                      & Other                     & Sales Executive          \\\\\n",
       "\t948 & 1319                      & Life Sciences             & Sales Executive          \\\\\n",
       "\t967 & 1360                      & Medical                   & Manufacturing Director   \\\\\n",
       "\t976 & 1372                      & Marketing                 & Sales Executive          \\\\\n",
       "\t1112 & 1572                      & Technical Degree          & Manufacturing Director   \\\\\n",
       "\t1355 & 1907                      & Life Sciences             & Laboratory Technician    \\\\\n",
       "\t1397 & 1968                      & Life Sciences             & Sales Executive          \\\\\n",
       "\t1445 & 2032                      & Technical Degree          & Laboratory Technician    \\\\\n",
       "\t1453 & 2044                      & Life Sciences             & Sales Executive          \\\\\n",
       "\t1462 & 2055                      & Marketing                 & Sales Executive          \\\\\n",
       "\\end{tabular}\n"
      ],
      "text/markdown": [
       "\n",
       "| <!--/--> | EmployeeNumber | EducationField | JobRole |\n",
       "|---|---|---|---|\n",
       "| 37 |   47                      | Marketing                 | Sales Representative      |\n",
       "| 123 |  161                      | Life Sciences             | Research Scientist        |\n",
       "| 127 |  165                      | Medical                   | Healthcare Representative |\n",
       "| 137 |  179                      | Life Sciences             | Manufacturing Director    |\n",
       "| 318 |  433                      | Medical                   | Research Scientist        |\n",
       "| 529 |  723                      | Technical Degree          | Sales Executive           |\n",
       "| 569 |  787                      | Medical                   | Manager                   |\n",
       "| 596 |  825                      | Life Sciences             | Research Director         |\n",
       "| 609 |  842                      | Medical                   | Sales Executive           |\n",
       "| 661 |  918                      | Life Sciences             | Laboratory Technician     |\n",
       "| 701 |  977                      | Technical Degree          | Research Scientist        |\n",
       "| 750 | 1038                      | Marketing                 | Manager                   |\n",
       "| 780 | 1081                      | Life Sciences             | Research Scientist        |\n",
       "| 802 | 1113                      | Other                     | Sales Executive           |\n",
       "| 948 | 1319                      | Life Sciences             | Sales Executive           |\n",
       "| 967 | 1360                      | Medical                   | Manufacturing Director    |\n",
       "| 976 | 1372                      | Marketing                 | Sales Executive           |\n",
       "| 1112 | 1572                      | Technical Degree          | Manufacturing Director    |\n",
       "| 1355 | 1907                      | Life Sciences             | Laboratory Technician     |\n",
       "| 1397 | 1968                      | Life Sciences             | Sales Executive           |\n",
       "| 1445 | 2032                      | Technical Degree          | Laboratory Technician     |\n",
       "| 1453 | 2044                      | Life Sciences             | Sales Executive           |\n",
       "| 1462 | 2055                      | Marketing                 | Sales Executive           |\n",
       "\n"
      ],
      "text/plain": [
       "     EmployeeNumber EducationField   JobRole                  \n",
       "37     47           Marketing        Sales Representative     \n",
       "123   161           Life Sciences    Research Scientist       \n",
       "127   165           Medical          Healthcare Representative\n",
       "137   179           Life Sciences    Manufacturing Director   \n",
       "318   433           Medical          Research Scientist       \n",
       "529   723           Technical Degree Sales Executive          \n",
       "569   787           Medical          Manager                  \n",
       "596   825           Life Sciences    Research Director        \n",
       "609   842           Medical          Sales Executive          \n",
       "661   918           Life Sciences    Laboratory Technician    \n",
       "701   977           Technical Degree Research Scientist       \n",
       "750  1038           Marketing        Manager                  \n",
       "780  1081           Life Sciences    Research Scientist       \n",
       "802  1113           Other            Sales Executive          \n",
       "948  1319           Life Sciences    Sales Executive          \n",
       "967  1360           Medical          Manufacturing Director   \n",
       "976  1372           Marketing        Sales Executive          \n",
       "1112 1572           Technical Degree Manufacturing Director   \n",
       "1355 1907           Life Sciences    Laboratory Technician    \n",
       "1397 1968           Life Sciences    Sales Executive          \n",
       "1445 2032           Technical Degree Laboratory Technician    \n",
       "1453 2044           Life Sciences    Sales Executive          \n",
       "1462 2055           Marketing        Sales Executive          "
      ]
     },
     "metadata": {},
     "output_type": "display_data"
    }
   ],
   "source": [
    "subset(data, Age >= 50 & Attrition == 'Yes', select = c(EmployeeNumber, EducationField, JobRole))"
   ]
  },
  {
   "cell_type": "markdown",
   "metadata": {},
   "source": [
    "#### 5. For each JOBROLE, find the average MONTHLYINCOME. Arrange the output in descending order. "
   ]
  },
  {
   "cell_type": "code",
   "execution_count": 33,
   "metadata": {},
   "outputs": [
    {
     "data": {
      "text/html": [
       "<table>\n",
       "<thead><tr><th scope=col>JobRole</th><th scope=col>AvgMonthlyIncome</th></tr></thead>\n",
       "<tbody>\n",
       "\t<tr><td>Manager                  </td><td>17181.676                </td></tr>\n",
       "\t<tr><td>Research Director        </td><td>16033.550                </td></tr>\n",
       "\t<tr><td>Healthcare Representative</td><td> 7528.763                </td></tr>\n",
       "\t<tr><td>Manufacturing Director   </td><td> 7295.138                </td></tr>\n",
       "\t<tr><td>Sales Executive          </td><td> 6924.279                </td></tr>\n",
       "\t<tr><td>Human Resources          </td><td> 4235.750                </td></tr>\n",
       "\t<tr><td>Research Scientist       </td><td> 3239.973                </td></tr>\n",
       "\t<tr><td>Laboratory Technician    </td><td> 3237.170                </td></tr>\n",
       "\t<tr><td>Sales Representative     </td><td> 2626.000                </td></tr>\n",
       "</tbody>\n",
       "</table>\n"
      ],
      "text/latex": [
       "\\begin{tabular}{r|ll}\n",
       " JobRole & AvgMonthlyIncome\\\\\n",
       "\\hline\n",
       "\t Manager                   & 17181.676                \\\\\n",
       "\t Research Director         & 16033.550                \\\\\n",
       "\t Healthcare Representative &  7528.763                \\\\\n",
       "\t Manufacturing Director    &  7295.138                \\\\\n",
       "\t Sales Executive           &  6924.279                \\\\\n",
       "\t Human Resources           &  4235.750                \\\\\n",
       "\t Research Scientist        &  3239.973                \\\\\n",
       "\t Laboratory Technician     &  3237.170                \\\\\n",
       "\t Sales Representative      &  2626.000                \\\\\n",
       "\\end{tabular}\n"
      ],
      "text/markdown": [
       "\n",
       "| JobRole | AvgMonthlyIncome |\n",
       "|---|---|\n",
       "| Manager                   | 17181.676                 |\n",
       "| Research Director         | 16033.550                 |\n",
       "| Healthcare Representative |  7528.763                 |\n",
       "| Manufacturing Director    |  7295.138                 |\n",
       "| Sales Executive           |  6924.279                 |\n",
       "| Human Resources           |  4235.750                 |\n",
       "| Research Scientist        |  3239.973                 |\n",
       "| Laboratory Technician     |  3237.170                 |\n",
       "| Sales Representative      |  2626.000                 |\n",
       "\n"
      ],
      "text/plain": [
       "  JobRole                   AvgMonthlyIncome\n",
       "1 Manager                   17181.676       \n",
       "2 Research Director         16033.550       \n",
       "3 Healthcare Representative  7528.763       \n",
       "4 Manufacturing Director     7295.138       \n",
       "5 Sales Executive            6924.279       \n",
       "6 Human Resources            4235.750       \n",
       "7 Research Scientist         3239.973       \n",
       "8 Laboratory Technician      3237.170       \n",
       "9 Sales Representative       2626.000       "
      ]
     },
     "metadata": {},
     "output_type": "display_data"
    }
   ],
   "source": [
    "df1 <- group_by(data, JobRole)\n",
    "df2 <- summarize(df1, AvgMonthlyIncome = mean(MonthlyIncome))\n",
    "arrange(df2, desc(AvgMonthlyIncome))"
   ]
  },
  {
   "cell_type": "markdown",
   "metadata": {},
   "source": [
    "#### 6. Count the different MARITALSTATUS when ATTRITION is YES and AGE is greater than 35 in the dataset. Arrange the count in descending order. "
   ]
  },
  {
   "cell_type": "code",
   "execution_count": 42,
   "metadata": {},
   "outputs": [
    {
     "data": {
      "text/html": [
       "<table>\n",
       "<thead><tr><th scope=col>MaritalStatus</th><th scope=col>CountMaritalStatus</th></tr></thead>\n",
       "<tbody>\n",
       "\t<tr><td>Married </td><td>33      </td></tr>\n",
       "\t<tr><td>Single  </td><td>30      </td></tr>\n",
       "\t<tr><td>Divorced</td><td>14      </td></tr>\n",
       "</tbody>\n",
       "</table>\n"
      ],
      "text/latex": [
       "\\begin{tabular}{r|ll}\n",
       " MaritalStatus & CountMaritalStatus\\\\\n",
       "\\hline\n",
       "\t Married  & 33      \\\\\n",
       "\t Single   & 30      \\\\\n",
       "\t Divorced & 14      \\\\\n",
       "\\end{tabular}\n"
      ],
      "text/markdown": [
       "\n",
       "| MaritalStatus | CountMaritalStatus |\n",
       "|---|---|\n",
       "| Married  | 33       |\n",
       "| Single   | 30       |\n",
       "| Divorced | 14       |\n",
       "\n"
      ],
      "text/plain": [
       "  MaritalStatus CountMaritalStatus\n",
       "1 Married       33                \n",
       "2 Single        30                \n",
       "3 Divorced      14                "
      ]
     },
     "metadata": {},
     "output_type": "display_data"
    }
   ],
   "source": [
    "df3 <- subset(data, Attrition == 'Yes' & Age > 35)\n",
    "df4 <- group_by(df3, MaritalStatus)\n",
    "df5 <- summarize(df4, CountMaritalStatus = length(MaritalStatus))\n",
    "arrange(df5, desc(CountMaritalStatus))"
   ]
  },
  {
   "cell_type": "markdown",
   "metadata": {},
   "source": [
    "#### 7. For all the women employees having AGE between 55 and 60 and JOBLEVEL > 4, sort the DEPARTMENT from A to Z first and then EMPLOYEENUMBER in ascending order. Print only DEPARTMENT and EMPLOYEENUMBER in the output. "
   ]
  },
  {
   "cell_type": "code",
   "execution_count": 44,
   "metadata": {},
   "outputs": [
    {
     "data": {
      "text/html": [
       "<table>\n",
       "<thead><tr><th scope=col>Department</th><th scope=col>EmployeeNumber</th></tr></thead>\n",
       "<tbody>\n",
       "\t<tr><td>Human Resources       </td><td> 140                  </td></tr>\n",
       "\t<tr><td>Research &amp; Development</td><td>1191                      </td></tr>\n",
       "\t<tr><td>Research &amp; Development</td><td>1423                      </td></tr>\n",
       "</tbody>\n",
       "</table>\n"
      ],
      "text/latex": [
       "\\begin{tabular}{r|ll}\n",
       " Department & EmployeeNumber\\\\\n",
       "\\hline\n",
       "\t Human Resources        &  140                  \\\\\n",
       "\t Research \\& Development & 1191                    \\\\\n",
       "\t Research \\& Development & 1423                    \\\\\n",
       "\\end{tabular}\n"
      ],
      "text/markdown": [
       "\n",
       "| Department | EmployeeNumber |\n",
       "|---|---|\n",
       "| Human Resources        |  140                   |\n",
       "| Research & Development | 1191                   |\n",
       "| Research & Development | 1423                   |\n",
       "\n"
      ],
      "text/plain": [
       "  Department             EmployeeNumber\n",
       "1 Human Resources         140          \n",
       "2 Research & Development 1191          \n",
       "3 Research & Development 1423          "
      ]
     },
     "metadata": {},
     "output_type": "display_data"
    }
   ],
   "source": [
    "df6 <- data %>% filter(Gender == 'Female' & Age > 55 & Age < 60 & JobLevel > 4) %>% arrange(Department, EmployeeNumber) %>% select(Department, EmployeeNumber)\n",
    "df6"
   ]
  },
  {
   "cell_type": "markdown",
   "metadata": {},
   "source": [
    "#### 8. What are the correlations between Education, JobSatisfaction, and HourlyRate?"
   ]
  },
  {
   "cell_type": "code",
   "execution_count": 45,
   "metadata": {},
   "outputs": [
    {
     "data": {
      "text/html": [
       "<table>\n",
       "<thead><tr><th></th><th scope=col>data.Education</th><th scope=col>data.JobSatisfaction</th><th scope=col>data.HourlyRate</th></tr></thead>\n",
       "<tbody>\n",
       "\t<tr><th scope=row>data.Education</th><td> 1.00000000</td><td>-0.01129612</td><td> 0.01677483</td></tr>\n",
       "\t<tr><th scope=row>data.JobSatisfaction</th><td>-0.01129612</td><td> 1.00000000</td><td>-0.07133462</td></tr>\n",
       "\t<tr><th scope=row>data.HourlyRate</th><td> 0.01677483</td><td>-0.07133462</td><td> 1.00000000</td></tr>\n",
       "</tbody>\n",
       "</table>\n"
      ],
      "text/latex": [
       "\\begin{tabular}{r|lll}\n",
       "  & data.Education & data.JobSatisfaction & data.HourlyRate\\\\\n",
       "\\hline\n",
       "\tdata.Education &  1.00000000 & -0.01129612 &  0.01677483\\\\\n",
       "\tdata.JobSatisfaction & -0.01129612 &  1.00000000 & -0.07133462\\\\\n",
       "\tdata.HourlyRate &  0.01677483 & -0.07133462 &  1.00000000\\\\\n",
       "\\end{tabular}\n"
      ],
      "text/markdown": [
       "\n",
       "| <!--/--> | data.Education | data.JobSatisfaction | data.HourlyRate |\n",
       "|---|---|---|---|\n",
       "| data.Education |  1.00000000 | -0.01129612 |  0.01677483 |\n",
       "| data.JobSatisfaction | -0.01129612 |  1.00000000 | -0.07133462 |\n",
       "| data.HourlyRate |  0.01677483 | -0.07133462 |  1.00000000 |\n",
       "\n"
      ],
      "text/plain": [
       "                     data.Education data.JobSatisfaction data.HourlyRate\n",
       "data.Education        1.00000000    -0.01129612           0.01677483    \n",
       "data.JobSatisfaction -0.01129612     1.00000000          -0.07133462    \n",
       "data.HourlyRate       0.01677483    -0.07133462           1.00000000    "
      ]
     },
     "metadata": {},
     "output_type": "display_data"
    }
   ],
   "source": [
    "cor(data.frame(data$Education, data$JobSatisfaction, data$HourlyRate))"
   ]
  },
  {
   "cell_type": "code",
   "execution_count": null,
   "metadata": {},
   "outputs": [],
   "source": []
  }
 ],
 "metadata": {
  "kernelspec": {
   "display_name": "R",
   "language": "R",
   "name": "ir"
  },
  "language_info": {
   "codemirror_mode": "r",
   "file_extension": ".r",
   "mimetype": "text/x-r-source",
   "name": "R",
   "pygments_lexer": "r",
   "version": "3.6.1"
  }
 },
 "nbformat": 4,
 "nbformat_minor": 4
}
